{
 "cells": [
  {
   "cell_type": "code",
   "execution_count": 1,
   "metadata": {},
   "outputs": [],
   "source": [
    "from selenium import webdriver\n",
    "from bs4 import BeautifulSoup as bs\n",
    "import time\n",
    "\n",
    "options = webdriver.ChromeOptions()\n",
    "options.add_experimental_option(\"detach\", True)\n",
    "\n",
    "url_base = 'https://www.gsuplementos.com.br'\n",
    "url_top_20 = f'{url_base}/top-20'\n",
    "nav = webdriver.Chrome(options=options)\n",
    "\n",
    "# classe_20 = 'item-top20'\n",
    "# pos_produto = '<span class=\"relative\">3</span>'\n",
    "# nome_produto = '<span class=\"lp-top20-itemBox-txt\">Multivitamínico</span>'\n",
    "\n",
    "nav.get(url_top_20)\n"
   ]
  },
  {
   "cell_type": "code",
   "execution_count": 9,
   "metadata": {},
   "outputs": [
    {
     "name": "stdout",
     "output_type": "stream",
     "text": [
      "[<span class=\"relative\">1</span>, <span class=\"relative\">2</span>, <span class=\"relative\">3</span>, <span class=\"relative\">4</span>, <span class=\"relative\">5</span>, <span class=\"relative\">6</span>, <span class=\"relative\">7</span>, <span class=\"relative\">8</span>, <span class=\"relative\">9</span>, <span class=\"relative\">10</span>, <span class=\"relative\">11</span>, <span class=\"relative\">12</span>, <span class=\"relative\">13</span>, <span class=\"relative\">14</span>, <span class=\"relative\">15</span>, <span class=\"relative\">16</span>, <span class=\"relative\">17</span>, <span class=\"relative\">18</span>, <span class=\"relative\">19</span>, <span class=\"relative\">20</span>, <span class=\"relative\">1</span>, <span class=\"relative\">2</span>, <span class=\"relative\">3</span>, <span class=\"relative\">4</span>, <span class=\"relative\">5</span>, <span class=\"relative\">6</span>, <span class=\"relative\">7</span>, <span class=\"relative\">8</span>, <span class=\"relative\">9</span>, <span class=\"relative\">10</span>, <span class=\"relative\">11</span>, <span class=\"relative\">12</span>, <span class=\"relative\">13</span>, <span class=\"relative\">14</span>, <span class=\"relative\">15</span>, <span class=\"relative\">16</span>, <span class=\"relative\">17</span>, <span class=\"relative\">18</span>, <span class=\"relative\">19</span>, <span class=\"relative\">20</span>]\n",
      "[<span class=\"lp-top20-itemBox-txt\">Whey Protein Concentrado</span>, <span class=\"lp-top20-itemBox-txt\">Creatina Creapure® e Creatina Mono</span>, <span class=\"lp-top20-itemBox-txt\">Multivitamínico</span>, <span class=\"lp-top20-itemBox-txt\">Pré-treino Haze</span>, <span class=\"lp-top20-itemBox-txt\">Roupas</span>, <span class=\"lp-top20-itemBox-txt\">beta alanina</span>, <span class=\"lp-top20-itemBox-txt\">vitaminas (B, K, C)</span>, <span class=\"lp-top20-itemBox-txt\">barrinhas</span>, <span class=\"lp-top20-itemBox-txt\">hot termogênico</span>, <span class=\"lp-top20-itemBox-txt\">glutamina</span>, <span class=\"lp-top20-itemBox-txt\">bcaa's (2:1:1, 5:1:1, 10:1:1)</span>, <span class=\"lp-top20-itemBox-txt\">Albumina</span>, <span class=\"lp-top20-itemBox-txt\">óleo de peixe</span>, <span class=\"lp-top20-itemBox-txt\">cafeínas</span>, <span class=\"lp-top20-itemBox-txt\">Whey Protein 3W</span>, <span class=\"lp-top20-itemBox-txt\">melatonina</span>, <span class=\"lp-top20-itemBox-txt\">zma</span>, <span class=\"lp-top20-itemBox-txt\">Hipercalóricos</span>, <span class=\"lp-top20-itemBox-txt\">Power Arginine</span>, <span class=\"lp-top20-itemBox-txt\">linha clinical</span>]\n",
      "{'produto': ['Whey Protein Concentrado', 'Creatina Creapure® e Creatina Mono', 'Multivitamínico', 'Pré-treino Haze', 'Roupas', 'beta alanina', 'vitaminas (B, K, C)', 'barrinhas', 'hot termogênico', 'glutamina', \"bcaa's (2:1:1, 5:1:1, 10:1:1)\", 'Albumina', 'óleo de peixe', 'cafeínas', 'Whey Protein 3W', 'melatonina', 'zma', 'Hipercalóricos', 'Power Arginine', 'linha clinical'], 'pos': ['1', '2', '3', '4', '5', '6', '7', '8', '9', '10', '11', '12', '13', '14', '15', '16', '17', '18', '19', '20', '1', '2', '3', '4', '5', '6', '7', '8', '9', '10', '11', '12', '13', '14', '15', '16', '17', '18', '19', '20']}\n"
     ]
    }
   ],
   "source": [
    "\n",
    "time.sleep(5)\n",
    "\n",
    "content = bs(nav.page_source, 'html.parser')\n",
    "pos_produto = content.find_all('span', class_=\"relative\")\n",
    "nome_produto = content.find_all('span', class_=\"lp-top20-itemBox-txt\")\n",
    "\n",
    "dict_top20 = {'produto': [], 'pos': []}\n",
    "\n",
    "for pos in pos_produto:\n",
    "    dict_top20['pos'].append(pos.text)\n",
    "for nome in nome_produto:\n",
    "    dict_top20['produto'].append(nome.text)\n",
    "\n",
    "print(pos_produto)\n",
    "print(nome_produto)\n",
    "\n",
    "print(dict_top20)"
   ]
  }
 ],
 "metadata": {
  "kernelspec": {
   "display_name": "Python 3.9.13 ('env': venv)",
   "language": "python",
   "name": "python3"
  },
  "language_info": {
   "codemirror_mode": {
    "name": "ipython",
    "version": 3
   },
   "file_extension": ".py",
   "mimetype": "text/x-python",
   "name": "python",
   "nbconvert_exporter": "python",
   "pygments_lexer": "ipython3",
   "version": "3.9.13"
  },
  "orig_nbformat": 4,
  "vscode": {
   "interpreter": {
    "hash": "38cf494735a65ceeafddf3484dc97c127f315e6fc62686cc95c0a3872790b08f"
   }
  }
 },
 "nbformat": 4,
 "nbformat_minor": 2
}
