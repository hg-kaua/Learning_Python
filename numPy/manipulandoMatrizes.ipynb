{
 "cells": [
  {
   "cell_type": "code",
   "execution_count": 1,
   "metadata": {},
   "outputs": [],
   "source": [
    "import numpy as np \n",
    "\n",
    "\n",
    "#  Criando uma lista de listas\n",
    "\n",
    "arr9 = np.array([ [1,2,3], [4,5,6]])\n"
   ]
  },
  {
   "cell_type": "code",
   "execution_count": 4,
   "metadata": {},
   "outputs": [
    {
     "name": "stdout",
     "output_type": "stream",
     "text": [
      "[[1 2 3]\n",
      " [4 5 6]]\n",
      "(2, 3)\n"
     ]
    }
   ],
   "source": [
    "type(arr9)\n",
    "print(arr9)\n",
    "print(arr9.shape)"
   ]
  },
  {
   "cell_type": "code",
   "execution_count": 7,
   "metadata": {},
   "outputs": [
    {
     "name": "stdout",
     "output_type": "stream",
     "text": [
      "[[1 2 3]\n",
      " [4 5 6]\n",
      " [7 8 9]]\n",
      "9\n"
     ]
    }
   ],
   "source": [
    "lista = [[1,2,3], [4,5,6], [7,8,9]]\n",
    "\n",
    "# A função matrix cria uma matriz a partir de uma lista de listas\n",
    "\n",
    "arr11 = np.matrix(lista)\n",
    "\n",
    "print(arr11)\n",
    "\n",
    "# tamanho da matriz\n",
    "\n",
    "print(arr11.size)"
   ]
  }
 ],
 "metadata": {
  "kernelspec": {
   "display_name": "Python 3.9.13 ('base')",
   "language": "python",
   "name": "python3"
  },
  "language_info": {
   "codemirror_mode": {
    "name": "ipython",
    "version": 3
   },
   "file_extension": ".py",
   "mimetype": "text/x-python",
   "name": "python",
   "nbconvert_exporter": "python",
   "pygments_lexer": "ipython3",
   "version": "3.9.13"
  },
  "orig_nbformat": 4,
  "vscode": {
   "interpreter": {
    "hash": "3a0908fd2e7af3595ab03b48609e15c7a19dc480c2da3f94b21b5b194062cb1f"
   }
  }
 },
 "nbformat": 4,
 "nbformat_minor": 2
}
