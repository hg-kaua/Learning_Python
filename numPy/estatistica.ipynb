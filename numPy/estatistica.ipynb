{
 "cells": [
  {
   "cell_type": "code",
   "execution_count": 4,
   "metadata": {},
   "outputs": [
    {
     "data": {
      "text/plain": [
       "54.0"
      ]
     },
     "execution_count": 4,
     "metadata": {},
     "output_type": "execute_result"
    }
   ],
   "source": [
    "\n",
    "import numpy as np\n",
    "\n",
    "# analise estatistica padrao: Média \n",
    "# criando um array\n",
    "arr14 = np.array([15,23,63,94,75])\n",
    "\n",
    "np.mean(arr14)\n"
   ]
  },
  {
   "cell_type": "code",
   "execution_count": 2,
   "metadata": {},
   "outputs": [
    {
     "data": {
      "text/plain": [
       "30.34468652004828"
      ]
     },
     "execution_count": 2,
     "metadata": {},
     "output_type": "execute_result"
    }
   ],
   "source": [
    "# Analise estatística padrão: Desvio padrão\n",
    "\n",
    "np.std(arr14)\n",
    "\n",
    "# Tanto a variância quanto o desvio padrão são medidas úteis de dispersão e podem ser usados em\n",
    "# conjunto para descrever a distribuição de um conjunto de dados.\n",
    "\n",
    "# Avariância é uma medida quadrática e\n",
    "# pode ser útil para calcular outras estatísticas, como o desvio padrão. No entanto, como a variância é uma\n",
    "# medida quadrática, seus valores são geralmente maiores do que os valores dos próprios dados, o que pode dificultar a interpretação. \n",
    "\n",
    "# O desvio padrão é a raiz quadrada da variância e fornece uma medida de dispersão que tem a mesma unidade de medida que os próprios dados,\n",
    "# facilitando a interpretação e a comparação com outros valores.Em geral, o desvio padrão é mais comumente usado do que a variância, \n",
    "# principalmente porque é mais fácil de interpretar. No entanto, a escolha entre o uso da variância ou do desvio padrão depende do contexto e do\n",
    "# objetivo da análise. Em alguns casos, a variância pode ser uma medida  mais  apropriada,  como  quando  se  pretende  calcular  outras  estatísticas,  \n",
    "# como  a covariância ou o coeficiente de correlação. Em outros casos, o desvio padrão pode ser uma medida mais apropriada, como quando se pretende\n",
    "# avaliar a consistência dos dados em relação à média e comparar diferentes conjuntos de dados."
   ]
  },
  {
   "cell_type": "code",
   "execution_count": 12,
   "metadata": {},
   "outputs": [
    {
     "name": "stdout",
     "output_type": "stream",
     "text": [
      "[1 2 3 4 5 6 7 8 9]\n",
      "45\n",
      "362880\n",
      "[ 2  4  6  8 10 12 14]\n"
     ]
    }
   ],
   "source": [
    "#  Operações matemáticas com arrays\n",
    "\n",
    "arr15 = np.arange(1,10)\n",
    "\n",
    "print(arr15)\n",
    "\n",
    "print(np.sum(arr15))\n",
    "\n",
    "print(np.prod(arr15))\n",
    "\n",
    "# soma de matrizes \n",
    "\n",
    "arr16 = np.arange(1, 8)\n",
    "arr17 = np.arange(1, 8)\n",
    "\n",
    "arr18 = np.add(arr16, arr17)\n",
    "\n",
    "print(arr18)"
   ]
  }
 ],
 "metadata": {
  "kernelspec": {
   "display_name": "Python 3.9.13 ('base')",
   "language": "python",
   "name": "python3"
  },
  "language_info": {
   "codemirror_mode": {
    "name": "ipython",
    "version": 3
   },
   "file_extension": ".py",
   "mimetype": "text/x-python",
   "name": "python",
   "nbconvert_exporter": "python",
   "pygments_lexer": "ipython3",
   "version": "3.9.13"
  },
  "orig_nbformat": 4,
  "vscode": {
   "interpreter": {
    "hash": "3a0908fd2e7af3595ab03b48609e15c7a19dc480c2da3f94b21b5b194062cb1f"
   }
  }
 },
 "nbformat": 4,
 "nbformat_minor": 2
}
