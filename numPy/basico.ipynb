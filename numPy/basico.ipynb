{
 "cells": [
  {
   "cell_type": "markdown",
   "metadata": {},
   "source": [
    "Criando Arrays - matrizes"
   ]
  },
  {
   "cell_type": "code",
   "execution_count": 16,
   "metadata": {},
   "outputs": [
    {
     "name": "stdout",
     "output_type": "stream",
     "text": [
      "[10 21 32 43 48  1  2 64 11 90]\n"
     ]
    },
    {
     "data": {
      "text/plain": [
       "(10,)"
      ]
     },
     "execution_count": 16,
     "metadata": {},
     "output_type": "execute_result"
    }
   ],
   "source": [
    "import numpy\n",
    "\n",
    "arrl = numpy.array([10,21,32,43,48,1,2,64,11,90])\n",
    "\n",
    "\n",
    "print(arrl)\n",
    "#  verificando formato\n",
    "\n",
    "# array de 1 dimensão\n",
    "arrl.shape"
   ]
  },
  {
   "cell_type": "markdown",
   "metadata": {},
   "source": [
    "Indexaçao"
   ]
  },
  {
   "cell_type": "code",
   "execution_count": 22,
   "metadata": {},
   "outputs": [
    {
     "name": "stdout",
     "output_type": "stream",
     "text": [
      "48\n",
      "[21 32 43]\n",
      "[10 32  1 11]\n",
      "[ True False  True False  True False  True  True False  True]\n",
      "[10 32 48  2 64 90]\n"
     ]
    }
   ],
   "source": [
    "print(arrl[4])\n",
    "\n",
    "print(arrl[1:4])\n",
    "\n",
    "indices = [0, 2, 5, 8]\n",
    "print(arrl[indices])\n",
    "\n",
    "# criar mask\n",
    "mask = (arrl % 2 == 0)\n",
    "print(mask)\n",
    "print(arrl[mask])"
   ]
  },
  {
   "cell_type": "markdown",
   "metadata": {},
   "source": [
    "Funçoes numpy"
   ]
  },
  {
   "cell_type": "code",
   "execution_count": 27,
   "metadata": {},
   "outputs": [
    {
     "name": "stdout",
     "output_type": "stream",
     "text": [
      "[ 1  3  6 10 15]\n",
      "[  1   2   6  24 120]\n",
      "[ 1  3  5  7  9 11 13 15 17 19 21 23 25 27 29 31 33 35 37 39 41 43 45 47\n",
      " 49 51 53 55 57 59 61 63 65 67 69 71 73 75 77 79 81 83 85 87 89 91 93 95\n",
      " 97 99]\n"
     ]
    }
   ],
   "source": [
    "#  cumsum - soma acumulada\n",
    "arrl2 = numpy.array([1, 2, 3, 4, 5])\n",
    "print(arrl2.cumsum())\n",
    "\n",
    "#  cumprod - multiplicaçao acumulada - fatorial\n",
    "print(arrl2.cumprod())\n",
    "\n",
    "#  arange - cria um array numpy com um progressao aritimetica (start, stop, step)\n",
    "arr3 = numpy.arange(1, 100, 2)\n",
    "print(arr3)"
   ]
  }
 ],
 "metadata": {
  "kernelspec": {
   "display_name": "Python 3.9.13 ('base')",
   "language": "python",
   "name": "python3"
  },
  "language_info": {
   "codemirror_mode": {
    "name": "ipython",
    "version": 3
   },
   "file_extension": ".py",
   "mimetype": "text/x-python",
   "name": "python",
   "nbconvert_exporter": "python",
   "pygments_lexer": "ipython3",
   "version": "3.9.13"
  },
  "orig_nbformat": 4,
  "vscode": {
   "interpreter": {
    "hash": "3a0908fd2e7af3595ab03b48609e15c7a19dc480c2da3f94b21b5b194062cb1f"
   }
  }
 },
 "nbformat": 4,
 "nbformat_minor": 2
}
