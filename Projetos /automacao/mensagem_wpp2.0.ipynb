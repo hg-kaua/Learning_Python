{
 "cells": [
  {
   "cell_type": "code",
   "execution_count": 1,
   "metadata": {},
   "outputs": [],
   "source": [
    "from selenium import webdriver\n",
    "\n",
    "options = webdriver.ChromeOptions()\n",
    "options.add_experimental_option(\"detach\", True)\n",
    "\n",
    "nav = webdriver.Chrome(options=options)\n",
    "\n",
    "nav.get(\"https://web.whatsapp.com/\")"
   ]
  },
  {
   "cell_type": "code",
   "execution_count": 3,
   "metadata": {},
   "outputs": [],
   "source": [
    "from selenium.webdriver.common.keys import Keys\n",
    "import time\n",
    "\n",
    "msg = \"fala ai, esse é o segundo teste de selenium de cria\"\n",
    "group_list = [\n",
    "    \"academia\", \n",
    "    \"quem voce pensa que é?\",\n",
    "    \"continuem falando oq vcs\",\n",
    "    \"jesusss\", \n",
    "    \"omg_lookinti_him\", \n",
    "    \"pope francis\",\n",
    "    \"Cris bumister o siban\",\n",
    "    \"fake nattyyyyy\"\n",
    "    ]\n",
    "\n",
    "def group_search(group):\n",
    "    search = nav.find_element('xpath', '//*[@id=\"side\"]/div[1]/div/div/div[2]/div/div[1]/p')\n",
    "    search.click()\n",
    "    search.send_keys(group)\n",
    "    search.send_keys(Keys.ENTER)\n",
    "\n",
    "def send_message(msg):\n",
    "    message = nav.find_element('xpath', '//*[@id=\"main\"]/footer/div[1]/div/span[2]/div/div[2]/div[1]/div/div[1]/p')\n",
    "    message.send_keys(msg)\n",
    "    message.send_keys(Keys.ENTER)\n",
    "\n",
    "for group in group_list:\n",
    "    time.sleep(1)\n",
    "    group_search(group)\n",
    "    time.sleep(1)\n",
    "    send_message(msg)"
   ]
  },
  {
   "cell_type": "code",
   "execution_count": null,
   "metadata": {},
   "outputs": [],
   "source": []
  }
 ],
 "metadata": {
  "kernelspec": {
   "display_name": "Python 3.9.13 ('env': venv)",
   "language": "python",
   "name": "python3"
  },
  "language_info": {
   "codemirror_mode": {
    "name": "ipython",
    "version": 3
   },
   "file_extension": ".py",
   "mimetype": "text/x-python",
   "name": "python",
   "nbconvert_exporter": "python",
   "pygments_lexer": "ipython3",
   "version": "3.9.13"
  },
  "orig_nbformat": 4,
  "vscode": {
   "interpreter": {
    "hash": "38cf494735a65ceeafddf3484dc97c127f315e6fc62686cc95c0a3872790b08f"
   }
  }
 },
 "nbformat": 4,
 "nbformat_minor": 2
}
