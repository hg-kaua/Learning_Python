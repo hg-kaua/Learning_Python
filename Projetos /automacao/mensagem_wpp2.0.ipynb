{
 "cells": [
  {
   "cell_type": "code",
   "execution_count": 6,
   "metadata": {},
   "outputs": [],
   "source": [
    "from selenium import webdriver\n",
    "\n",
    "options = webdriver.ChromeOptions()\n",
    "options.add_experimental_option(\"detach\", True)\n",
    "\n",
    "nav = webdriver.Chrome(options=options)\n",
    "\n",
    "nav.get(\"https://web.whatsapp.com/\")"
   ]
  },
  {
   "cell_type": "code",
   "execution_count": 33,
   "metadata": {},
   "outputs": [],
   "source": [
    "from selenium.webdriver.common.keys import Keys\n",
    "\n",
    "msg = \"fala ai, esse é o segundo teste de selenium de cria\"\n",
    "group_list = [\n",
    "    \"academia\", \n",
    "    \"quem voce pensa que é?\",\n",
    "    \"continuem falando oq vcs\",\n",
    "    \"jesusss\", \n",
    "    \"omg_lookinti_him\", \n",
    "    \"pope francis\",\n",
    "    \"Cris bumister o siban\",\n",
    "    \"fake nattyyyyy\"\n",
    "    ]\n",
    "\n",
    "search = nav.find_element('xpath', '//*[@id=\"side\"]/div[1]/div/div/div[2]/div/div[1]/p')\n",
    "search.click()\n",
    "search.send_keys(group_list[0])\n",
    "search.send_keys(Keys.ENTER)\n",
    "\n",
    "message = nav.find_element('xpath', '//*[@id=\"main\"]/footer/div[1]/div/span[2]/div/div[2]/div[1]/div/div[1]/p')\n",
    "message.send_keys(msg)\n",
    "message.send_keys(Keys.ENTER)"
   ]
  },
  {
   "cell_type": "code",
   "execution_count": 47,
   "metadata": {},
   "outputs": [
    {
     "ename": "AttributeError",
     "evalue": "move_to requires a WebElement",
     "output_type": "error",
     "traceback": [
      "\u001b[0;31m---------------------------------------------------------------------------\u001b[0m",
      "\u001b[0;31mAttributeError\u001b[0m                            Traceback (most recent call last)",
      "Cell \u001b[0;32mIn[47], line 12\u001b[0m\n\u001b[1;32m      9\u001b[0m         element \u001b[38;5;241m=\u001b[39m item\n\u001b[1;32m     10\u001b[0m         \u001b[38;5;28;01mbreak\u001b[39;00m\n\u001b[0;32m---> 12\u001b[0m \u001b[43mActionChains\u001b[49m\u001b[43m(\u001b[49m\u001b[43mmessage\u001b[49m\u001b[43m)\u001b[49m\u001b[38;5;241;43m.\u001b[39;49m\u001b[43mmove_to_element\u001b[49m\u001b[43m(\u001b[49m\u001b[43melement\u001b[49m\u001b[43m)\u001b[49m\u001b[38;5;241m.\u001b[39mperform()\n\u001b[1;32m     13\u001b[0m element\u001b[38;5;241m.\u001b[39mfind_element(\u001b[38;5;124m\"\u001b[39m\u001b[38;5;124mxpath\u001b[39m\u001b[38;5;124m\"\u001b[39m, \u001b[38;5;124m'\u001b[39m\u001b[38;5;124m//*[@id=\u001b[39m\u001b[38;5;124m\"\u001b[39m\u001b[38;5;124mmain\u001b[39m\u001b[38;5;124m\"\u001b[39m\u001b[38;5;124m]/div[2]/div/div[2]/div[3]/div[7]/div/div/div/div[1]/span[2]/div/div\u001b[39m\u001b[38;5;124m'\u001b[39m)\u001b[38;5;241m.\u001b[39mclick()\n",
      "File \u001b[0;32m~/Documents/Python/Learning_Python/Projetos /env/lib/python3.9/site-packages/selenium/webdriver/common/action_chains.py:253\u001b[0m, in \u001b[0;36mActionChains.move_to_element\u001b[0;34m(self, to_element)\u001b[0m\n\u001b[1;32m    246\u001b[0m \u001b[39mdef\u001b[39;00m \u001b[39mmove_to_element\u001b[39m(\u001b[39mself\u001b[39m, to_element: WebElement) \u001b[39m-\u001b[39m\u001b[39m>\u001b[39m ActionChains:\n\u001b[1;32m    247\u001b[0m \u001b[39m    \u001b[39m\u001b[39m\"\"\"Moving the mouse to the middle of an element.\u001b[39;00m\n\u001b[1;32m    248\u001b[0m \n\u001b[1;32m    249\u001b[0m \u001b[39m    :Args:\u001b[39;00m\n\u001b[1;32m    250\u001b[0m \u001b[39m     - to_element: The WebElement to move to.\u001b[39;00m\n\u001b[1;32m    251\u001b[0m \u001b[39m    \"\"\"\u001b[39;00m\n\u001b[0;32m--> 253\u001b[0m     \u001b[39mself\u001b[39;49m\u001b[39m.\u001b[39;49mw3c_actions\u001b[39m.\u001b[39;49mpointer_action\u001b[39m.\u001b[39;49mmove_to(to_element)\n\u001b[1;32m    254\u001b[0m     \u001b[39mself\u001b[39m\u001b[39m.\u001b[39mw3c_actions\u001b[39m.\u001b[39mkey_action\u001b[39m.\u001b[39mpause()\n\u001b[1;32m    256\u001b[0m     \u001b[39mreturn\u001b[39;00m \u001b[39mself\u001b[39m\n",
      "File \u001b[0;32m~/Documents/Python/Learning_Python/Projetos /env/lib/python3.9/site-packages/selenium/webdriver/common/actions/pointer_actions.py:88\u001b[0m, in \u001b[0;36mPointerActions.move_to\u001b[0;34m(self, element, x, y, width, height, pressure, tangential_pressure, tilt_x, tilt_y, twist, altitude_angle, azimuth_angle)\u001b[0m\n\u001b[1;32m     72\u001b[0m \u001b[39mdef\u001b[39;00m \u001b[39mmove_to\u001b[39m(\n\u001b[1;32m     73\u001b[0m     \u001b[39mself\u001b[39m,\n\u001b[1;32m     74\u001b[0m     element,\n\u001b[0;32m   (...)\u001b[0m\n\u001b[1;32m     85\u001b[0m     azimuth_angle\u001b[39m=\u001b[39m\u001b[39mNone\u001b[39;00m,\n\u001b[1;32m     86\u001b[0m ):\n\u001b[1;32m     87\u001b[0m     \u001b[39mif\u001b[39;00m \u001b[39mnot\u001b[39;00m \u001b[39misinstance\u001b[39m(element, WebElement):\n\u001b[0;32m---> 88\u001b[0m         \u001b[39mraise\u001b[39;00m \u001b[39mAttributeError\u001b[39;00m(\u001b[39m\"\u001b[39m\u001b[39mmove_to requires a WebElement\u001b[39m\u001b[39m\"\u001b[39m)\n\u001b[1;32m     90\u001b[0m     \u001b[39mself\u001b[39m\u001b[39m.\u001b[39msource\u001b[39m.\u001b[39mcreate_pointer_move(\n\u001b[1;32m     91\u001b[0m         origin\u001b[39m=\u001b[39melement,\n\u001b[1;32m     92\u001b[0m         duration\u001b[39m=\u001b[39m\u001b[39mself\u001b[39m\u001b[39m.\u001b[39m_duration,\n\u001b[0;32m   (...)\u001b[0m\n\u001b[1;32m    103\u001b[0m         azimuth_angle\u001b[39m=\u001b[39mazimuth_angle,\n\u001b[1;32m    104\u001b[0m     )\n\u001b[1;32m    105\u001b[0m     \u001b[39mreturn\u001b[39;00m \u001b[39mself\u001b[39m\n",
      "\u001b[0;31mAttributeError\u001b[0m: move_to requires a WebElement"
     ]
    }
   ],
   "source": [
    "from selenium.webdriver.common.action_chains import ActionChains\n",
    "\n",
    "elements_list = nav.find_elements(\"class name\", '_1uv-a')\n",
    "\n",
    "for item in elements_list:\n",
    "    msg = msg.replace(\"\\n\", \"\")\n",
    "    texto = item.text.replace(\"\\n\", \"\")\n",
    "    if msg in texto:\n",
    "        element = item\n",
    "        break\n",
    "    \n",
    "ActionChains(message).move_to_element(element).perform()\n",
    "element.find_element(\"xpath\", '//*[@id=\"main\"]/div[2]/div/div[2]/div[3]/div[7]/div/div/div/div[1]/span[2]/div/div').click()"
   ]
  }
 ],
 "metadata": {
  "kernelspec": {
   "display_name": "Python 3.9.13 ('env': venv)",
   "language": "python",
   "name": "python3"
  },
  "language_info": {
   "codemirror_mode": {
    "name": "ipython",
    "version": 3
   },
   "file_extension": ".py",
   "mimetype": "text/x-python",
   "name": "python",
   "nbconvert_exporter": "python",
   "pygments_lexer": "ipython3",
   "version": "3.9.13"
  },
  "orig_nbformat": 4,
  "vscode": {
   "interpreter": {
    "hash": "38cf494735a65ceeafddf3484dc97c127f315e6fc62686cc95c0a3872790b08f"
   }
  }
 },
 "nbformat": 4,
 "nbformat_minor": 2
}
