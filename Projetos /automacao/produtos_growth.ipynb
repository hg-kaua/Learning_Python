{
 "cells": [
  {
   "cell_type": "code",
   "execution_count": 45,
   "metadata": {},
   "outputs": [],
   "source": [
    "from selenium import webdriver\n",
    "\n",
    "options = webdriver.ChromeOptions()\n",
    "options.add_experimental_option(\"detach\", True)\n",
    "\n",
    "nav = webdriver.Chrome(options=options)\n",
    "nav.get('https://www.gsuplementos.com.br/')"
   ]
  },
  {
   "cell_type": "code",
   "execution_count": 46,
   "metadata": {},
   "outputs": [],
   "source": [
    "from selenium.webdriver.common.keys import Keys\n",
    "import time\n",
    "\n",
    "products = [\n",
    "    '(TOP) Whey Protein Isolado (1KG) - Growth Supplements',\n",
    "    'Creatina Monohidratada ',\n",
    "    'BCAA 2:1:1 - 120 COMPRIMIDOS TAB - GROWTH SUPPLEMENTS',\n",
    "    'Pré-treino Insanity 300g - Growth Supplements',\n",
    "    'Multivitamínico',\n",
    "    'Blend Vegan - Growth Supplements',\n",
    "    'ÓLEO DE PEIXE SABOR MENTA 60SOFT - GROWTH SUPPLEMENTS',\n",
    "    'Zinco Quelato',\n",
    "    'Glutamina',\n",
    "    'Chocolate Fit - Display C/ 8Un. - Growth Supplements',\n",
    "    \n",
    "    ]\n",
    "\n",
    "def product_search(prod):\n",
    "    search = nav.find_element('xpath', '//*[@id=\"busca\"]/input')\n",
    "    search.click()\n",
    "    search.send_keys(prod)\n",
    "    search.send_keys(Keys.ENTER)\n",
    "\n",
    "def clear():\n",
    "    search = nav.find_element('xpath', '//*[@id=\"busca\"]/input')\n",
    "    search.clear()\n",
    "\n",
    "def verificar_produto(prod):\n",
    "    try:\n",
    "        elemento = nav.find_element('link text', prod)\n",
    "        print(\"Elemento disponivel:\", elemento.text)\n",
    "    except:\n",
    "        print(\"Elemento indisponivel:\", prod)\n"
   ]
  },
  {
   "cell_type": "code",
   "execution_count": 47,
   "metadata": {},
   "outputs": [
    {
     "name": "stdout",
     "output_type": "stream",
     "text": [
      "Elemento disponivel: (TOP) Whey Protein Isolado (1KG) - Growth Supplements\n",
      "Elemento indisponivel: Creatina Monohidratada \n",
      "Elemento disponivel: BCAA 2:1:1 - 120 COMPRIMIDOS TAB - GROWTH SUPPLEMENTS\n",
      "Elemento disponivel: Pré-treino Insanity 300g - Growth Supplements\n",
      "Elemento indisponivel: Multivitamínico\n",
      "Elemento disponivel: Blend Vegan - Growth Supplements\n",
      "Elemento disponivel: ÓLEO DE PEIXE SABOR MENTA 60SOFT - GROWTH SUPPLEMENTS\n",
      "Elemento indisponivel: Zinco Quelato\n",
      "Elemento indisponivel: Glutamina\n",
      "Elemento disponivel: Chocolate Fit - Display C/ 8Un. - Growth Supplements\n"
     ]
    }
   ],
   "source": [
    "for product in products:\n",
    "    clear()\n",
    "    product_search(product)\n",
    "    verificar_produto(product)\n",
    "    time.sleep(0.5)"
   ]
  }
 ],
 "metadata": {
  "kernelspec": {
   "display_name": "Python 3.9.13 ('env': venv)",
   "language": "python",
   "name": "python3"
  },
  "language_info": {
   "codemirror_mode": {
    "name": "ipython",
    "version": 3
   },
   "file_extension": ".py",
   "mimetype": "text/x-python",
   "name": "python",
   "nbconvert_exporter": "python",
   "pygments_lexer": "ipython3",
   "version": "3.9.13"
  },
  "orig_nbformat": 4,
  "vscode": {
   "interpreter": {
    "hash": "38cf494735a65ceeafddf3484dc97c127f315e6fc62686cc95c0a3872790b08f"
   }
  }
 },
 "nbformat": 4,
 "nbformat_minor": 2
}
