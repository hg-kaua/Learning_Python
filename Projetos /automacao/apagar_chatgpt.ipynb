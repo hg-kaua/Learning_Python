{
 "cells": [
  {
   "cell_type": "code",
   "execution_count": 13,
   "metadata": {},
   "outputs": [],
   "source": [
    "from selenium import webdriver\n",
    "\n",
    "options = webdriver.ChromeOptions()\n",
    "options.add_experimental_option(\"detach\", True)\n",
    "\n",
    "navegador = webdriver.Chrome(options=options)\n",
    "nav = webdriver.Chrome()\n",
    "nav.get('https://chat.openai.com/?model=text-davinci-002-render-sha')\n"
   ]
  },
  {
   "cell_type": "code",
   "execution_count": 14,
   "metadata": {},
   "outputs": [],
   "source": [
    "from selenium.webdriver.common.keys import Keys\n",
    "import time\n",
    "\n",
    "def login():\n",
    "    login = nav.find_element('xpath', '//*[@id=\"__next\"]/div[1]/div[2]/div[1]/div/div/button[1]')\n",
    "    login.click()\n",
    "    \n",
    "    time.sleep(10)\n",
    "    checkbox = nav.find_element('xpath', '//*[@id=\"challenge-stage\"]/div/label/map/img')\n",
    "    checkbox.click()\n",
    "\n"
   ]
  },
  {
   "cell_type": "code",
   "execution_count": 15,
   "metadata": {},
   "outputs": [
    {
     "ename": "NoSuchElementException",
     "evalue": "Message: no such element: Unable to locate element: {\"method\":\"xpath\",\"selector\":\"//*[@id=\"challenge-stage\"]/div/label/map/img\"}\n  (Session info: chrome=96.0.4664.55); For documentation on this error, please visit: https://www.selenium.dev/documentation/webdriver/troubleshooting/errors#no-such-element-exception\nStacktrace:\n0   chromedriver                        0x0000000109d2c269 __gxx_personality_v0 + 582729\n1   chromedriver                        0x0000000109cb7c33 __gxx_personality_v0 + 106003\n2   chromedriver                        0x0000000109874e28 chromedriver + 171560\n3   chromedriver                        0x00000001098aa3d2 chromedriver + 390098\n4   chromedriver                        0x00000001098aa591 chromedriver + 390545\n5   chromedriver                        0x00000001098dc6b4 chromedriver + 595636\n6   chromedriver                        0x00000001098c79fd chromedriver + 510461\n7   chromedriver                        0x00000001098da462 chromedriver + 586850\n8   chromedriver                        0x00000001098c7c23 chromedriver + 511011\n9   chromedriver                        0x000000010989d75e chromedriver + 337758\n10  chromedriver                        0x000000010989ea95 chromedriver + 342677\n11  chromedriver                        0x0000000109ce88ab __gxx_personality_v0 + 305803\n12  chromedriver                        0x0000000109cff863 __gxx_personality_v0 + 399939\n13  chromedriver                        0x0000000109d04c7f __gxx_personality_v0 + 421471\n14  chromedriver                        0x0000000109d00bba __gxx_personality_v0 + 404890\n15  chromedriver                        0x0000000109cdce51 __gxx_personality_v0 + 258097\n16  chromedriver                        0x0000000109d1c158 __gxx_personality_v0 + 516920\n17  chromedriver                        0x0000000109d1c2e1 __gxx_personality_v0 + 517313\n18  chromedriver                        0x0000000109d336f8 __gxx_personality_v0 + 612568\n19  libsystem_pthread.dylib             0x00007ff8096c64e1 _pthread_start + 125\n20  libsystem_pthread.dylib             0x00007ff8096c1f6b thread_start + 15\n",
     "output_type": "error",
     "traceback": [
      "\u001b[0;31m---------------------------------------------------------------------------\u001b[0m",
      "\u001b[0;31mNoSuchElementException\u001b[0m                    Traceback (most recent call last)",
      "Cell \u001b[0;32mIn[15], line 1\u001b[0m\n\u001b[0;32m----> 1\u001b[0m \u001b[43mlogin\u001b[49m\u001b[43m(\u001b[49m\u001b[43m)\u001b[49m\n\u001b[1;32m      3\u001b[0m time\u001b[38;5;241m.\u001b[39msleep(\u001b[38;5;241m5\u001b[39m)\n\u001b[1;32m      4\u001b[0m nav\u001b[38;5;241m.\u001b[39mquit()\n",
      "Cell \u001b[0;32mIn[14], line 9\u001b[0m, in \u001b[0;36mlogin\u001b[0;34m()\u001b[0m\n\u001b[1;32m      6\u001b[0m login\u001b[38;5;241m.\u001b[39mclick()\n\u001b[1;32m      8\u001b[0m time\u001b[38;5;241m.\u001b[39msleep(\u001b[38;5;241m10\u001b[39m)\n\u001b[0;32m----> 9\u001b[0m checkbox \u001b[38;5;241m=\u001b[39m \u001b[43mnav\u001b[49m\u001b[38;5;241;43m.\u001b[39;49m\u001b[43mfind_element\u001b[49m\u001b[43m(\u001b[49m\u001b[38;5;124;43m'\u001b[39;49m\u001b[38;5;124;43mxpath\u001b[39;49m\u001b[38;5;124;43m'\u001b[39;49m\u001b[43m,\u001b[49m\u001b[43m \u001b[49m\u001b[38;5;124;43m'\u001b[39;49m\u001b[38;5;124;43m//*[@id=\u001b[39;49m\u001b[38;5;124;43m\"\u001b[39;49m\u001b[38;5;124;43mchallenge-stage\u001b[39;49m\u001b[38;5;124;43m\"\u001b[39;49m\u001b[38;5;124;43m]/div/label/map/img\u001b[39;49m\u001b[38;5;124;43m'\u001b[39;49m\u001b[43m)\u001b[49m\n\u001b[1;32m     10\u001b[0m checkbox\u001b[38;5;241m.\u001b[39mclick()\n",
      "File \u001b[0;32m~/Documents/Python/Learning_Python/Projetos /env/lib/python3.9/site-packages/selenium/webdriver/remote/webdriver.py:738\u001b[0m, in \u001b[0;36mWebDriver.find_element\u001b[0;34m(self, by, value)\u001b[0m\n\u001b[1;32m    735\u001b[0m     by \u001b[39m=\u001b[39m By\u001b[39m.\u001b[39mCSS_SELECTOR\n\u001b[1;32m    736\u001b[0m     value \u001b[39m=\u001b[39m \u001b[39mf\u001b[39m\u001b[39m'\u001b[39m\u001b[39m[name=\u001b[39m\u001b[39m\"\u001b[39m\u001b[39m{\u001b[39;00mvalue\u001b[39m}\u001b[39;00m\u001b[39m\"\u001b[39m\u001b[39m]\u001b[39m\u001b[39m'\u001b[39m\n\u001b[0;32m--> 738\u001b[0m \u001b[39mreturn\u001b[39;00m \u001b[39mself\u001b[39;49m\u001b[39m.\u001b[39;49mexecute(Command\u001b[39m.\u001b[39;49mFIND_ELEMENT, {\u001b[39m\"\u001b[39;49m\u001b[39musing\u001b[39;49m\u001b[39m\"\u001b[39;49m: by, \u001b[39m\"\u001b[39;49m\u001b[39mvalue\u001b[39;49m\u001b[39m\"\u001b[39;49m: value})[\u001b[39m\"\u001b[39m\u001b[39mvalue\u001b[39m\u001b[39m\"\u001b[39m]\n",
      "File \u001b[0;32m~/Documents/Python/Learning_Python/Projetos /env/lib/python3.9/site-packages/selenium/webdriver/remote/webdriver.py:344\u001b[0m, in \u001b[0;36mWebDriver.execute\u001b[0;34m(self, driver_command, params)\u001b[0m\n\u001b[1;32m    342\u001b[0m response \u001b[39m=\u001b[39m \u001b[39mself\u001b[39m\u001b[39m.\u001b[39mcommand_executor\u001b[39m.\u001b[39mexecute(driver_command, params)\n\u001b[1;32m    343\u001b[0m \u001b[39mif\u001b[39;00m response:\n\u001b[0;32m--> 344\u001b[0m     \u001b[39mself\u001b[39;49m\u001b[39m.\u001b[39;49merror_handler\u001b[39m.\u001b[39;49mcheck_response(response)\n\u001b[1;32m    345\u001b[0m     response[\u001b[39m\"\u001b[39m\u001b[39mvalue\u001b[39m\u001b[39m\"\u001b[39m] \u001b[39m=\u001b[39m \u001b[39mself\u001b[39m\u001b[39m.\u001b[39m_unwrap_value(response\u001b[39m.\u001b[39mget(\u001b[39m\"\u001b[39m\u001b[39mvalue\u001b[39m\u001b[39m\"\u001b[39m, \u001b[39mNone\u001b[39;00m))\n\u001b[1;32m    346\u001b[0m     \u001b[39mreturn\u001b[39;00m response\n",
      "File \u001b[0;32m~/Documents/Python/Learning_Python/Projetos /env/lib/python3.9/site-packages/selenium/webdriver/remote/errorhandler.py:229\u001b[0m, in \u001b[0;36mErrorHandler.check_response\u001b[0;34m(self, response)\u001b[0m\n\u001b[1;32m    227\u001b[0m         alert_text \u001b[39m=\u001b[39m value[\u001b[39m\"\u001b[39m\u001b[39malert\u001b[39m\u001b[39m\"\u001b[39m]\u001b[39m.\u001b[39mget(\u001b[39m\"\u001b[39m\u001b[39mtext\u001b[39m\u001b[39m\"\u001b[39m)\n\u001b[1;32m    228\u001b[0m     \u001b[39mraise\u001b[39;00m exception_class(message, screen, stacktrace, alert_text)  \u001b[39m# type: ignore[call-arg]  # mypy is not smart enough here\u001b[39;00m\n\u001b[0;32m--> 229\u001b[0m \u001b[39mraise\u001b[39;00m exception_class(message, screen, stacktrace)\n",
      "\u001b[0;31mNoSuchElementException\u001b[0m: Message: no such element: Unable to locate element: {\"method\":\"xpath\",\"selector\":\"//*[@id=\"challenge-stage\"]/div/label/map/img\"}\n  (Session info: chrome=96.0.4664.55); For documentation on this error, please visit: https://www.selenium.dev/documentation/webdriver/troubleshooting/errors#no-such-element-exception\nStacktrace:\n0   chromedriver                        0x0000000109d2c269 __gxx_personality_v0 + 582729\n1   chromedriver                        0x0000000109cb7c33 __gxx_personality_v0 + 106003\n2   chromedriver                        0x0000000109874e28 chromedriver + 171560\n3   chromedriver                        0x00000001098aa3d2 chromedriver + 390098\n4   chromedriver                        0x00000001098aa591 chromedriver + 390545\n5   chromedriver                        0x00000001098dc6b4 chromedriver + 595636\n6   chromedriver                        0x00000001098c79fd chromedriver + 510461\n7   chromedriver                        0x00000001098da462 chromedriver + 586850\n8   chromedriver                        0x00000001098c7c23 chromedriver + 511011\n9   chromedriver                        0x000000010989d75e chromedriver + 337758\n10  chromedriver                        0x000000010989ea95 chromedriver + 342677\n11  chromedriver                        0x0000000109ce88ab __gxx_personality_v0 + 305803\n12  chromedriver                        0x0000000109cff863 __gxx_personality_v0 + 399939\n13  chromedriver                        0x0000000109d04c7f __gxx_personality_v0 + 421471\n14  chromedriver                        0x0000000109d00bba __gxx_personality_v0 + 404890\n15  chromedriver                        0x0000000109cdce51 __gxx_personality_v0 + 258097\n16  chromedriver                        0x0000000109d1c158 __gxx_personality_v0 + 516920\n17  chromedriver                        0x0000000109d1c2e1 __gxx_personality_v0 + 517313\n18  chromedriver                        0x0000000109d336f8 __gxx_personality_v0 + 612568\n19  libsystem_pthread.dylib             0x00007ff8096c64e1 _pthread_start + 125\n20  libsystem_pthread.dylib             0x00007ff8096c1f6b thread_start + 15\n"
     ]
    }
   ],
   "source": [
    "login()\n",
    "\n",
    "time.sleep(5)\n",
    "nav.quit()"
   ]
  }
 ],
 "metadata": {
  "kernelspec": {
   "display_name": "Python 3.9.13 ('env': venv)",
   "language": "python",
   "name": "python3"
  },
  "language_info": {
   "codemirror_mode": {
    "name": "ipython",
    "version": 3
   },
   "file_extension": ".py",
   "mimetype": "text/x-python",
   "name": "python",
   "nbconvert_exporter": "python",
   "pygments_lexer": "ipython3",
   "version": "3.9.13"
  },
  "orig_nbformat": 4,
  "vscode": {
   "interpreter": {
    "hash": "38cf494735a65ceeafddf3484dc97c127f315e6fc62686cc95c0a3872790b08f"
   }
  }
 },
 "nbformat": 4,
 "nbformat_minor": 2
}
